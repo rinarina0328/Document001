{
  "nbformat": 4,
  "nbformat_minor": 0,
  "metadata": {
    "colab": {
      "name": "Report003.ipynb",
      "provenance": [],
      "collapsed_sections": [],
      "toc_visible": true
    },
    "kernelspec": {
      "name": "python3",
      "display_name": "Python 3"
    }
  },
  "cells": [
    {
      "cell_type": "markdown",
      "metadata": {
        "id": "MS7aezey-G-O",
        "colab_type": "text"
      },
      "source": [
        "# 実験レポート１\n",
        "## 電気抵抗の温度変化\n",
        "提出期限：９月９日（金）午後５時までにメールすること！"
      ]
    },
    {
      "cell_type": "markdown",
      "metadata": {
        "id": "zpjlDGbe-Ak0",
        "colab_type": "text"
      },
      "source": [
        ""
      ]
    },
    {
      "cell_type": "code",
      "metadata": {
        "id": "wyXXQrdC-Ng1",
        "colab_type": "code",
        "colab": {}
      },
      "source": [
        "import numpy as np\n",
        "import pandas as pd\n",
        "import matplotlib.pyplot as plt\n",
        "import seaborn as sns\n",
        "from sklearn import linear_model\n",
        "sns.set()"
      ],
      "execution_count": 0,
      "outputs": []
    },
    {
      "cell_type": "markdown",
      "metadata": {
        "id": "1UE3mpRVCBEU",
        "colab_type": "text"
      },
      "source": [
        "測定したデータを以下に示す。"
      ]
    },
    {
      "cell_type": "code",
      "metadata": {
        "id": "lWicmYh6AtXj",
        "colab_type": "code",
        "outputId": "1a94c33c-8280-4306-93e1-37b7b24ad3f5",
        "colab": {
          "base_uri": "https://localhost:8080/",
          "height": 204
        }
      },
      "source": [
        "df = pd.read_csv('http://academia.rdy.jp/moonriver/wp-content/uploads/2019/09/mydata001.csv')\n",
        "df.head()"
      ],
      "execution_count": 2,
      "outputs": [
        {
          "output_type": "execute_result",
          "data": {
            "text/html": [
              "<div>\n",
              "<style scoped>\n",
              "    .dataframe tbody tr th:only-of-type {\n",
              "        vertical-align: middle;\n",
              "    }\n",
              "\n",
              "    .dataframe tbody tr th {\n",
              "        vertical-align: top;\n",
              "    }\n",
              "\n",
              "    .dataframe thead th {\n",
              "        text-align: right;\n",
              "    }\n",
              "</style>\n",
              "<table border=\"1\" class=\"dataframe\">\n",
              "  <thead>\n",
              "    <tr style=\"text-align: right;\">\n",
              "      <th></th>\n",
              "      <th>ti</th>\n",
              "      <th>Ri</th>\n",
              "    </tr>\n",
              "  </thead>\n",
              "  <tbody>\n",
              "    <tr>\n",
              "      <th>0</th>\n",
              "      <td>26.1</td>\n",
              "      <td>15.421</td>\n",
              "    </tr>\n",
              "    <tr>\n",
              "      <th>1</th>\n",
              "      <td>33.7</td>\n",
              "      <td>15.800</td>\n",
              "    </tr>\n",
              "    <tr>\n",
              "      <th>2</th>\n",
              "      <td>40.2</td>\n",
              "      <td>16.096</td>\n",
              "    </tr>\n",
              "    <tr>\n",
              "      <th>3</th>\n",
              "      <td>47.8</td>\n",
              "      <td>16.537</td>\n",
              "    </tr>\n",
              "    <tr>\n",
              "      <th>4</th>\n",
              "      <td>55.3</td>\n",
              "      <td>17.008</td>\n",
              "    </tr>\n",
              "  </tbody>\n",
              "</table>\n",
              "</div>"
            ],
            "text/plain": [
              "     ti      Ri\n",
              "0  26.1  15.421\n",
              "1  33.7  15.800\n",
              "2  40.2  16.096\n",
              "3  47.8  16.537\n",
              "4  55.3  17.008"
            ]
          },
          "metadata": {
            "tags": []
          },
          "execution_count": 2
        }
      ]
    },
    {
      "cell_type": "code",
      "metadata": {
        "id": "2fVYCCMNA6g-",
        "colab_type": "code",
        "outputId": "db3ce3fc-92ca-4f7f-d4ef-320e9b46e74d",
        "colab": {
          "base_uri": "https://localhost:8080/",
          "height": 297
        }
      },
      "source": [
        "df.describe()"
      ],
      "execution_count": 3,
      "outputs": [
        {
          "output_type": "execute_result",
          "data": {
            "text/html": [
              "<div>\n",
              "<style scoped>\n",
              "    .dataframe tbody tr th:only-of-type {\n",
              "        vertical-align: middle;\n",
              "    }\n",
              "\n",
              "    .dataframe tbody tr th {\n",
              "        vertical-align: top;\n",
              "    }\n",
              "\n",
              "    .dataframe thead th {\n",
              "        text-align: right;\n",
              "    }\n",
              "</style>\n",
              "<table border=\"1\" class=\"dataframe\">\n",
              "  <thead>\n",
              "    <tr style=\"text-align: right;\">\n",
              "      <th></th>\n",
              "      <th>ti</th>\n",
              "      <th>Ri</th>\n",
              "    </tr>\n",
              "  </thead>\n",
              "  <tbody>\n",
              "    <tr>\n",
              "      <th>count</th>\n",
              "      <td>10.000000</td>\n",
              "      <td>10.000000</td>\n",
              "    </tr>\n",
              "    <tr>\n",
              "      <th>mean</th>\n",
              "      <td>59.010000</td>\n",
              "      <td>17.252400</td>\n",
              "    </tr>\n",
              "    <tr>\n",
              "      <th>std</th>\n",
              "      <td>22.253811</td>\n",
              "      <td>1.296285</td>\n",
              "    </tr>\n",
              "    <tr>\n",
              "      <th>min</th>\n",
              "      <td>26.100000</td>\n",
              "      <td>15.421000</td>\n",
              "    </tr>\n",
              "    <tr>\n",
              "      <th>25%</th>\n",
              "      <td>42.100000</td>\n",
              "      <td>16.206250</td>\n",
              "    </tr>\n",
              "    <tr>\n",
              "      <th>50%</th>\n",
              "      <td>58.950000</td>\n",
              "      <td>17.231000</td>\n",
              "    </tr>\n",
              "    <tr>\n",
              "      <th>75%</th>\n",
              "      <td>75.400000</td>\n",
              "      <td>18.213750</td>\n",
              "    </tr>\n",
              "    <tr>\n",
              "      <th>max</th>\n",
              "      <td>92.100000</td>\n",
              "      <td>19.205000</td>\n",
              "    </tr>\n",
              "  </tbody>\n",
              "</table>\n",
              "</div>"
            ],
            "text/plain": [
              "              ti         Ri\n",
              "count  10.000000  10.000000\n",
              "mean   59.010000  17.252400\n",
              "std    22.253811   1.296285\n",
              "min    26.100000  15.421000\n",
              "25%    42.100000  16.206250\n",
              "50%    58.950000  17.231000\n",
              "75%    75.400000  18.213750\n",
              "max    92.100000  19.205000"
            ]
          },
          "metadata": {
            "tags": []
          },
          "execution_count": 3
        }
      ]
    },
    {
      "cell_type": "markdown",
      "metadata": {
        "id": "V9GOSMYxRojj",
        "colab_type": "text"
      },
      "source": [
        "生データをとりあえずプロットしておく。"
      ]
    },
    {
      "cell_type": "code",
      "metadata": {
        "id": "1x2u6xYKBAXU",
        "colab_type": "code",
        "outputId": "a16a968c-77b4-42b3-a66c-21ad22c7c8e0",
        "colab": {
          "base_uri": "https://localhost:8080/",
          "height": 308
        }
      },
      "source": [
        "sns.scatterplot(x='ti', y='Ri', data=df)"
      ],
      "execution_count": 4,
      "outputs": [
        {
          "output_type": "execute_result",
          "data": {
            "text/plain": [
              "<matplotlib.axes._subplots.AxesSubplot at 0x7f2005a6ae48>"
            ]
          },
          "metadata": {
            "tags": []
          },
          "execution_count": 4
        },
        {
          "output_type": "display_data",
          "data": {
            "image/png": "[encoded data removed]",
            "text/plain": [
              "<Figure size 432x288 with 1 Axes>"
            ]
          },
          "metadata": {
            "tags": []
          }
        }
      ]
    },
    {
      "cell_type": "markdown",
      "metadata": {
        "id": "-0NUMZCiRxbV",
        "colab_type": "text"
      },
      "source": [
        "温度を絶対温度にしておく。"
      ]
    },
    {
      "cell_type": "code",
      "metadata": {
        "id": "X9IZDEl5Bz-t",
        "colab_type": "code",
        "outputId": "232bd094-a838-4b5b-daae-983ebe026663",
        "colab": {
          "base_uri": "https://localhost:8080/",
          "height": 204
        }
      },
      "source": [
        "df['Ti'] = df['ti'] + 273.15\n",
        "df.head()"
      ],
      "execution_count": 5,
      "outputs": [
        {
          "output_type": "execute_result",
          "data": {
            "text/html": [
              "<div>\n",
              "<style scoped>\n",
              "    .dataframe tbody tr th:only-of-type {\n",
              "        vertical-align: middle;\n",
              "    }\n",
              "\n",
              "    .dataframe tbody tr th {\n",
              "        vertical-align: top;\n",
              "    }\n",
              "\n",
              "    .dataframe thead th {\n",
              "        text-align: right;\n",
              "    }\n",
              "</style>\n",
              "<table border=\"1\" class=\"dataframe\">\n",
              "  <thead>\n",
              "    <tr style=\"text-align: right;\">\n",
              "      <th></th>\n",
              "      <th>ti</th>\n",
              "      <th>Ri</th>\n",
              "      <th>Ti</th>\n",
              "    </tr>\n",
              "  </thead>\n",
              "  <tbody>\n",
              "    <tr>\n",
              "      <th>0</th>\n",
              "      <td>26.1</td>\n",
              "      <td>15.421</td>\n",
              "      <td>299.25</td>\n",
              "    </tr>\n",
              "    <tr>\n",
              "      <th>1</th>\n",
              "      <td>33.7</td>\n",
              "      <td>15.800</td>\n",
              "      <td>306.85</td>\n",
              "    </tr>\n",
              "    <tr>\n",
              "      <th>2</th>\n",
              "      <td>40.2</td>\n",
              "      <td>16.096</td>\n",
              "      <td>313.35</td>\n",
              "    </tr>\n",
              "    <tr>\n",
              "      <th>3</th>\n",
              "      <td>47.8</td>\n",
              "      <td>16.537</td>\n",
              "      <td>320.95</td>\n",
              "    </tr>\n",
              "    <tr>\n",
              "      <th>4</th>\n",
              "      <td>55.3</td>\n",
              "      <td>17.008</td>\n",
              "      <td>328.45</td>\n",
              "    </tr>\n",
              "  </tbody>\n",
              "</table>\n",
              "</div>"
            ],
            "text/plain": [
              "     ti      Ri      Ti\n",
              "0  26.1  15.421  299.25\n",
              "1  33.7  15.800  306.85\n",
              "2  40.2  16.096  313.35\n",
              "3  47.8  16.537  320.95\n",
              "4  55.3  17.008  328.45"
            ]
          },
          "metadata": {
            "tags": []
          },
          "execution_count": 5
        }
      ]
    },
    {
      "cell_type": "code",
      "metadata": {
        "id": "AeH9A5o2GNWi",
        "colab_type": "code",
        "outputId": "ac7cc362-e96b-48c1-b5e6-05ee3232d9f3",
        "colab": {
          "base_uri": "https://localhost:8080/",
          "height": 308
        }
      },
      "source": [
        "sns.scatterplot(x='Ti', y='Ri', data=df)"
      ],
      "execution_count": 6,
      "outputs": [
        {
          "output_type": "execute_result",
          "data": {
            "text/plain": [
              "<matplotlib.axes._subplots.AxesSubplot at 0x7f2002ebe128>"
            ]
          },
          "metadata": {
            "tags": []
          },
          "execution_count": 6
        },
        {
          "output_type": "display_data",
          "data": {
            "image/png": "[encoded data removed]",
            "text/plain": [
              "<Figure size 432x288 with 1 Axes>"
            ]
          },
          "metadata": {
            "tags": []
          }
        }
      ]
    },
    {
      "cell_type": "markdown",
      "metadata": {
        "id": "TN1MinBkIkej",
        "colab_type": "text"
      },
      "source": [
        "横軸は、絶対温度。"
      ]
    },
    {
      "cell_type": "markdown",
      "metadata": {
        "id": "0UT-xdnKR-rL",
        "colab_type": "text"
      },
      "source": [
        "# 最小自乗法"
      ]
    },
    {
      "cell_type": "code",
      "metadata": {
        "id": "PVAEoxOYGi7o",
        "colab_type": "code",
        "outputId": "9510e574-f830-475f-e16f-fe6365541633",
        "colab": {
          "base_uri": "https://localhost:8080/",
          "height": 291
        }
      },
      "source": [
        "reg = linear_model.LinearRegression()\n",
        "X = df['Ti'].values.reshape(-1, 1)\n",
        "Y = df['Ri'].values\n",
        "reg_fit = reg.fit(X, Y)\n",
        "plt.scatter(X, Y)\n",
        "plt.plot(X, reg.predict(X), 'r')"
      ],
      "execution_count": 7,
      "outputs": [
        {
          "output_type": "execute_result",
          "data": {
            "text/plain": [
              "[<matplotlib.lines.Line2D at 0x7f2001e9bb00>]"
            ]
          },
          "metadata": {
            "tags": []
          },
          "execution_count": 7
        },
        {
          "output_type": "display_data",
          "data": {
            "image/png": "[encoded data removed]",
            "text/plain": [
              "<Figure size 432x288 with 1 Axes>"
            ]
          },
          "metadata": {
            "tags": []
          }
        }
      ]
    },
    {
      "cell_type": "code",
      "metadata": {
        "id": "rOkyjilJG8fF",
        "colab_type": "code",
        "outputId": "df2d80c7-e4a0-463f-cc8d-19774c672fe0",
        "colab": {
          "base_uri": "https://localhost:8080/",
          "height": 51
        }
      },
      "source": [
        "print(reg_fit.coef_)\n",
        "print(reg_fit.intercept_)"
      ],
      "execution_count": 8,
      "outputs": [
        {
          "output_type": "stream",
          "text": [
            "[0.05821705]\n",
            "-2.0849743467092345\n"
          ],
          "name": "stdout"
        }
      ]
    },
    {
      "cell_type": "markdown",
      "metadata": {
        "id": "XOYL-6DPHJ9O",
        "colab_type": "text"
      },
      "source": [
        "$y$切片の値が負なのはおかしい。（抵抗は、絶対温度がゼロでも負にはならない。）"
      ]
    },
    {
      "cell_type": "code",
      "metadata": {
        "id": "-AarZETyEp1C",
        "colab_type": "code",
        "outputId": "d7132577-1f46-4e62-9885-f68378b545db",
        "colab": {
          "base_uri": "https://localhost:8080/",
          "height": 291
        }
      },
      "source": [
        "W = np.linspace(0,370,100).reshape(-1, 1)\n",
        "plt.scatter(X, Y)\n",
        "plt.plot(W, reg.predict(W),'r')"
      ],
      "execution_count": 9,
      "outputs": [
        {
          "output_type": "execute_result",
          "data": {
            "text/plain": [
              "[<matplotlib.lines.Line2D at 0x7f2001e05390>]"
            ]
          },
          "metadata": {
            "tags": []
          },
          "execution_count": 9
        },
        {
          "output_type": "display_data",
          "data": {
            "image/png": "[encoded data removed]",
            "text/plain": [
              "<Figure size 432x288 with 1 Axes>"
            ]
          },
          "metadata": {
            "tags": []
          }
        }
      ]
    },
    {
      "cell_type": "markdown",
      "metadata": {
        "id": "h0HVeG1rHh3_",
        "colab_type": "text"
      },
      "source": [
        "横軸の範囲を広げて回帰直線を書いてみた。$y$切片の値が負なのは、測定値の誤差の範囲内か？"
      ]
    },
    {
      "cell_type": "code",
      "metadata": {
        "id": "gKp7HmbLF1pu",
        "colab_type": "code",
        "outputId": "2f9c6ee2-de61-4e80-e95f-672630f42cb0",
        "colab": {
          "base_uri": "https://localhost:8080/",
          "height": 51
        }
      },
      "source": [
        "Y"
      ],
      "execution_count": 10,
      "outputs": [
        {
          "output_type": "execute_result",
          "data": {
            "text/plain": [
              "array([15.421, 15.8  , 16.096, 16.537, 17.008, 17.454, 17.904, 18.317,\n",
              "       18.782, 19.205])"
            ]
          },
          "metadata": {
            "tags": []
          },
          "execution_count": 10
        }
      ]
    },
    {
      "cell_type": "markdown",
      "metadata": {
        "id": "jSbKlBCafWvL",
        "colab_type": "text"
      },
      "source": [
        "測定した抵抗の値。"
      ]
    },
    {
      "cell_type": "code",
      "metadata": {
        "id": "5vdmcZAwetFz",
        "colab_type": "code",
        "outputId": "85c754fa-42f0-449a-898a-b55c962f0a70",
        "colab": {
          "base_uri": "https://localhost:8080/",
          "height": 51
        }
      },
      "source": [
        "YY = Y + np.random.normal(loc=0.0, scale=0.2, size=len(Y))\n",
        "YY"
      ],
      "execution_count": 11,
      "outputs": [
        {
          "output_type": "execute_result",
          "data": {
            "text/plain": [
              "array([15.34204799, 15.93787255, 16.32014822, 16.68488802, 17.13146242,\n",
              "       17.7161027 , 17.72830445, 18.5214186 , 18.90363055, 19.0910809 ])"
            ]
          },
          "metadata": {
            "tags": []
          },
          "execution_count": 11
        }
      ]
    },
    {
      "cell_type": "markdown",
      "metadata": {
        "id": "OUzIpiVilzks",
        "colab_type": "text"
      },
      "source": [
        "少し、正規分布の乱数を加えてみる。"
      ]
    },
    {
      "cell_type": "code",
      "metadata": {
        "id": "G4mJHbyVehvk",
        "colab_type": "code",
        "outputId": "2c075fe4-912f-473a-c596-71edb36506f1",
        "colab": {
          "base_uri": "https://localhost:8080/",
          "height": 308
        }
      },
      "source": [
        "reg_fit = reg.fit(X, YY)\n",
        "plt.scatter(X, YY)\n",
        "plt.plot(X, reg.predict(X), 'r')\n",
        "print(reg_fit.coef_)\n",
        "print(reg_fit.intercept_)"
      ],
      "execution_count": 12,
      "outputs": [
        {
          "output_type": "stream",
          "text": [
            "[0.05707479]\n",
            "-1.6202656082531846\n"
          ],
          "name": "stdout"
        },
        {
          "output_type": "display_data",
          "data": {
            "image/png": "[encoded data removed]",
            "text/plain": [
              "<Figure size 432x288 with 1 Axes>"
            ]
          },
          "metadata": {
            "tags": []
          }
        }
      ]
    },
    {
      "cell_type": "markdown",
      "metadata": {
        "id": "B2wg9hWufkjy",
        "colab_type": "text"
      },
      "source": [
        "それでも、$y$切片の値は負だな。。（本当は、乱数のタネを変えて何度もやるべき。タネを指定していなければ、毎回異なる乱数が生成されるが。）"
      ]
    },
    {
      "cell_type": "code",
      "metadata": {
        "id": "g6x7UUrPgDBH",
        "colab_type": "code",
        "colab": {
          "base_uri": "https://localhost:8080/",
          "height": 187
        },
        "outputId": "9723e58a-785b-4d5e-c2d5-169c43bfa61d"
      },
      "source": [
        "df['Ti'].values.reshape(-1, 1)"
      ],
      "execution_count": 13,
      "outputs": [
        {
          "output_type": "execute_result",
          "data": {
            "text/plain": [
              "array([[299.25],\n",
              "       [306.85],\n",
              "       [313.35],\n",
              "       [320.95],\n",
              "       [328.45],\n",
              "       [335.75],\n",
              "       [343.15],\n",
              "       [350.35],\n",
              "       [358.25],\n",
              "       [365.25]])"
            ]
          },
          "metadata": {
            "tags": []
          },
          "execution_count": 13
        }
      ]
    },
    {
      "cell_type": "code",
      "metadata": {
        "id": "NTsCqE7Nf4KE",
        "colab_type": "code",
        "colab": {
          "base_uri": "https://localhost:8080/",
          "height": 51
        },
        "outputId": "9822a379-815d-4671-f3e6-1ac8b1f4885c"
      },
      "source": [
        "df['Ti'].values"
      ],
      "execution_count": 14,
      "outputs": [
        {
          "output_type": "execute_result",
          "data": {
            "text/plain": [
              "array([299.25, 306.85, 313.35, 320.95, 328.45, 335.75, 343.15, 350.35,\n",
              "       358.25, 365.25])"
            ]
          },
          "metadata": {
            "tags": []
          },
          "execution_count": 14
        }
      ]
    },
    {
      "cell_type": "code",
      "metadata": {
        "id": "E3lYSSsAf7DV",
        "colab_type": "code",
        "colab": {
          "base_uri": "https://localhost:8080/",
          "height": 204
        },
        "outputId": "3a9403ef-ae9e-4556-f178-d8096b2c3b8a"
      },
      "source": [
        "df['Ti']"
      ],
      "execution_count": 15,
      "outputs": [
        {
          "output_type": "execute_result",
          "data": {
            "text/plain": [
              "0    299.25\n",
              "1    306.85\n",
              "2    313.35\n",
              "3    320.95\n",
              "4    328.45\n",
              "5    335.75\n",
              "6    343.15\n",
              "7    350.35\n",
              "8    358.25\n",
              "9    365.25\n",
              "Name: Ti, dtype: float64"
            ]
          },
          "metadata": {
            "tags": []
          },
          "execution_count": 15
        }
      ]
    },
    {
      "cell_type": "code",
      "metadata": {
        "id": "fVQ2kh9XgDyd",
        "colab_type": "code",
        "colab": {}
      },
      "source": [
        ""
      ],
      "execution_count": 0,
      "outputs": []
    }
  ]
}