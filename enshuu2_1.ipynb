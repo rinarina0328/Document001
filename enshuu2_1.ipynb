{
  "nbformat": 4,
  "nbformat_minor": 0,
  "metadata": {
    "colab": {
      "name": "enshuu2-1.ipynb",
      "provenance": [],
      "collapsed_sections": [],
      "authorship_tag": "ABX9TyO45iVj04BFmCja714pEAkn",
      "include_colab_link": true
    },
    "kernelspec": {
      "name": "python3",
      "display_name": "Python 3"
    }
  },
  "cells": [
    {
      "cell_type": "markdown",
      "metadata": {
        "id": "view-in-github",
        "colab_type": "text"
      },
      "source": [
        "<a href=\"https://colab.research.google.com/github/rinarina0328/Document001/blob/master/enshuu2_1.ipynb\" target=\"_parent\"><img src=\"https://colab.research.google.com/assets/colab-badge.svg\" alt=\"Open In Colab\"/></a>"
      ]
    },
    {
      "cell_type": "code",
      "metadata": {
        "id": "S-BtmtNLSfgM",
        "colab_type": "code",
        "colab": {}
      },
      "source": [
        "import numpy as np"
      ],
      "execution_count": 1,
      "outputs": []
    },
    {
      "cell_type": "code",
      "metadata": {
        "id": "n8uFfFM4Suen",
        "colab_type": "code",
        "colab": {}
      },
      "source": [
        "N = 5"
      ],
      "execution_count": 2,
      "outputs": []
    },
    {
      "cell_type": "code",
      "metadata": {
        "id": "pDzcsg-ASzYj",
        "colab_type": "code",
        "colab": {}
      },
      "source": [
        "#対角要素と非対角要素を格納する配列を定義\n",
        "a = np.empty(N)\n",
        "b = np.empty(N-1)"
      ],
      "execution_count": 3,
      "outputs": []
    },
    {
      "cell_type": "code",
      "metadata": {
        "id": "ZS6vGT0yTWWE",
        "colab_type": "code",
        "colab": {}
      },
      "source": [
        "#pnの符号変化回数を数える関数\n",
        "def count(lam):\n",
        "  pn = np.empty(N+1)\n",
        "  pn[0] = 1.0\n",
        "  pn[1] = a[0]-lam\n",
        "\n",
        "  for i in range(2,N+1):\n",
        "    pn[i] = (a[i-1]-lam)*pn[i-1]-b[i-2]*b[i-2]*pn[i-2]\n",
        "  count = 0\n",
        "\n",
        "  for i in range(N):\n",
        "    if pn[i]*pn[i+1] < 0:\n",
        "      count += 1\n",
        "    elif pn[i+1] == 0:\n",
        "      count += 1\n",
        "\n",
        "  return count"
      ],
      "execution_count": 4,
      "outputs": []
    },
    {
      "cell_type": "code",
      "metadata": {
        "id": "ZIqbOUNuXTDc",
        "colab_type": "code",
        "colab": {}
      },
      "source": [
        "#計算する行列の次元と行列要素を入力\n",
        "for i in range(N):\n",
        "  a[i] = 0.0\n",
        "\n",
        "for i in range(N-1):\n",
        "  b[i] = 1.0"
      ],
      "execution_count": 5,
      "outputs": []
    },
    {
      "cell_type": "code",
      "metadata": {
        "id": "8ON8UGPSYJnq",
        "colab_type": "code",
        "colab": {}
      },
      "source": [
        "#解の探索範囲[-max,max]、計算精度\n",
        "max = 50.0\n",
        "aa = -max\n",
        "bb = max\n",
        "bmax = max\n",
        "eps = 1.0e-8"
      ],
      "execution_count": 6,
      "outputs": []
    },
    {
      "cell_type": "code",
      "metadata": {
        "id": "DZ5sI0wyY2n6",
        "colab_type": "code",
        "colab": {
          "base_uri": "https://localhost:8080/",
          "height": 71
        },
        "outputId": "934e1649-6ec3-4867-9a50-07d8396874b0"
      },
      "source": [
        "#二分法による固有値計算ルーチン\n",
        "for i in range(N):\n",
        "  while abs(bb-aa) > eps:\n",
        "    cc = (aa+bb)/2.0\n",
        "    if count(cc)-count(aa) == 0:\n",
        "      aa = cc\n",
        "    else: \n",
        "      bb = cc\n",
        "    \n",
        "    print('eigen value=',cc)\n",
        "\n",
        "    aa = bb\n",
        "    bb = bmax"
      ],
      "execution_count": 7,
      "outputs": [
        {
          "output_type": "stream",
          "text": [
            "eigen value= 0.0\n",
            "eigen value= 25.0\n",
            "eigen value= 37.5\n"
          ],
          "name": "stdout"
        }
      ]
    }
  ]
}